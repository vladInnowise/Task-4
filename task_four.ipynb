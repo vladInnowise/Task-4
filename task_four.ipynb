{
 "cells": [
  {
   "cell_type": "code",
   "execution_count": 1,
   "id": "018761dd",
   "metadata": {},
   "outputs": [],
   "source": [
    "from pyspark.sql import SparkSession, functions as f\n",
    "import pyspark.sql.types as t"
   ]
  },
  {
   "cell_type": "code",
   "execution_count": 2,
   "id": "4645705d",
   "metadata": {},
   "outputs": [
    {
     "name": "stdout",
     "output_type": "stream",
     "text": [
      "22/07/19 01:23:01 WARN NativeCodeLoader: Unable to load native-hadoop library for your platform... using builtin-java classes where applicable\n"
     ]
    },
    {
     "name": "stderr",
     "output_type": "stream",
     "text": [
      "Setting default log level to \"WARN\".\n",
      "To adjust logging level use sc.setLogLevel(newLevel). For SparkR, use setLogLevel(newLevel).\n"
     ]
    }
   ],
   "source": [
    "spark = SparkSession.\\\n",
    "    builder.\\\n",
    "    appName(\"freaking_driver\").\\\n",
    "    config(\"spark.jars\", \"postgresql-42.4.0.jar\").\\\n",
    "    getOrCreate()"
   ]
  },
  {
   "cell_type": "code",
   "execution_count": 3,
   "id": "0e9179f1",
   "metadata": {},
   "outputs": [],
   "source": [
    "connector = spark.read\\\n",
    "    .format(\"jdbc\")\\\n",
    "    .option(\"url\", \"jdbc:postgresql://localhost:5432/vladbaran\")\\\n",
    "    .option(\"user\", \"postgres\")\\\n",
    "    .option(\"password\", \"klondike3711\")\\\n",
    "    .option(\"driver\", \"org.postgresql.Driver\")"
   ]
  },
  {
   "cell_type": "code",
   "execution_count": 4,
   "id": "69feff51",
   "metadata": {},
   "outputs": [],
   "source": [
    "actor = connector.option(\"dbtable\", \"actor\").load()"
   ]
  },
  {
   "cell_type": "code",
   "execution_count": 5,
   "id": "ddc7ff65",
   "metadata": {},
   "outputs": [],
   "source": [
    "def table_reader(table_name:str):\n",
    "    return connector.option(\"dbtable\", table_name).load()"
   ]
  },
  {
   "cell_type": "code",
   "execution_count": 6,
   "id": "8fb22360",
   "metadata": {},
   "outputs": [],
   "source": [
    "actor = table_reader(\"actor\")\n",
    "address = table_reader(\"address\")\n",
    "category = table_reader(\"category\")\n",
    "city = table_reader(\"city\")\n",
    "country = table_reader(\"country\")\n",
    "customer = table_reader(\"customer\")\n",
    "film = table_reader(\"film\")\n",
    "film_actor = table_reader(\"film_actor\")\n",
    "film_category = table_reader(\"film_category\")\n",
    "inventory = table_reader(\"inventory\")\n",
    "language = table_reader(\"language\")\n",
    "payment = table_reader(\"payment\")\n",
    "rental = table_reader(\"rental\")\n",
    "staff = table_reader(\"staff\")\n",
    "store = table_reader(\"store\")"
   ]
  },
  {
   "cell_type": "code",
   "execution_count": 86,
   "id": "2409ed1b",
   "metadata": {},
   "outputs": [
    {
     "name": "stdout",
     "output_type": "stream",
     "text": [
      "root\n",
      " |-- rental_id: integer (nullable = true)\n",
      " |-- rental_date: timestamp (nullable = true)\n",
      " |-- inventory_id: integer (nullable = true)\n",
      " |-- customer_id: short (nullable = true)\n",
      " |-- return_date: timestamp (nullable = true)\n",
      " |-- staff_id: short (nullable = true)\n",
      " |-- last_update: timestamp (nullable = true)\n",
      "\n"
     ]
    }
   ],
   "source": [
    "rental.printSchema()"
   ]
  },
  {
   "cell_type": "code",
   "execution_count": 7,
   "id": "92d7a1fa",
   "metadata": {
    "scrolled": false
   },
   "outputs": [
    {
     "name": "stderr",
     "output_type": "stream",
     "text": [
      "[Stage 0:>                  (0 + 1) / 1][Stage 1:>                  (0 + 1) / 1]\r"
     ]
    },
    {
     "name": "stdout",
     "output_type": "stream",
     "text": [
      "+-----------+-----+\n",
      "|       name|count|\n",
      "+-----------+-----+\n",
      "|     Sports|   74|\n",
      "|    Foreign|   73|\n",
      "|     Family|   69|\n",
      "|Documentary|   68|\n",
      "|  Animation|   66|\n",
      "|     Action|   64|\n",
      "|        New|   63|\n",
      "|      Drama|   62|\n",
      "|      Games|   61|\n",
      "|     Sci-Fi|   61|\n",
      "|   Children|   60|\n",
      "|     Comedy|   58|\n",
      "|     Travel|   57|\n",
      "|   Classics|   57|\n",
      "|     Horror|   56|\n",
      "|      Music|   51|\n",
      "+-----------+-----+\n",
      "\n"
     ]
    },
    {
     "name": "stderr",
     "output_type": "stream",
     "text": [
      "\r",
      "                                                                                \r"
     ]
    }
   ],
   "source": [
    "#1\n",
    "category.join(film_category, on=\"category_id\")\\\n",
    "    .groupBy(\"name\")\\\n",
    "    .count()\\\n",
    "    .orderBy(-f.col(\"count\").cast(t.FloatType()))\\\n",
    "    .show()"
   ]
  },
  {
   "cell_type": "code",
   "execution_count": 8,
   "id": "dccee688",
   "metadata": {},
   "outputs": [
    {
     "name": "stderr",
     "output_type": "stream",
     "text": [
      "                                                                                \r"
     ]
    },
    {
     "name": "stdout",
     "output_type": "stream",
     "text": [
      "+--------------+-----+\n",
      "|     full_name|total|\n",
      "+--------------+-----+\n",
      "|   SUSAN DAVIS|  242|\n",
      "|GINA DEGENERES|  209|\n",
      "|   WALTER TORN|  201|\n",
      "|   MARY KEITEL|  192|\n",
      "|MATTHEW CARREY|  190|\n",
      "| GROUCHO DUNST|  183|\n",
      "| ANGELA HUDSON|  183|\n",
      "| SANDRA KILMER|  181|\n",
      "|   HENRY BERRY|  180|\n",
      "|      UMA WOOD|  179|\n",
      "+--------------+-----+\n",
      "only showing top 10 rows\n",
      "\n"
     ]
    }
   ],
   "source": [
    "#2\n",
    "actor.join(film_actor, on=\"actor_id\")\\\n",
    "    .join(film, on=\"film_id\")\\\n",
    "    .withColumn(\"full_name\", f.concat_ws(' ', \"first_name\", \"last_name\"))\\\n",
    "    .groupBy(\"full_name\")\\\n",
    "    .agg(\n",
    "    f.sum(\"rental_duration\").alias(\"total\")\n",
    "    )\\\n",
    "    .orderBy(-f.col(\"total\"))\\\n",
    "    .show(10)"
   ]
  },
  {
   "cell_type": "code",
   "execution_count": 9,
   "id": "9c4660f6",
   "metadata": {},
   "outputs": [
    {
     "name": "stderr",
     "output_type": "stream",
     "text": [
      "                                                                                \r"
     ]
    },
    {
     "name": "stdout",
     "output_type": "stream",
     "text": [
      "+------+-------+\n",
      "|  name|    sum|\n",
      "+------+-------+\n",
      "|Sports|5314.21|\n",
      "+------+-------+\n",
      "\n"
     ]
    }
   ],
   "source": [
    "#3\n",
    "category.join(film_category, on=\"category_id\")\\\n",
    "    .join(film, on=\"film_id\")\\\n",
    "    .join(inventory, on=\"film_id\")\\\n",
    "    .join(rental, on=\"inventory_id\")\\\n",
    "    .join(payment, on=\"rental_id\")\\\n",
    "    .groupBy(\"name\")\\\n",
    "    .agg(\n",
    "    f.sum(\"amount\").alias(\"sum\")\n",
    "    )\\\n",
    "    .orderBy(-f.col(\"sum\")).limit(1).show()"
   ]
  },
  {
   "cell_type": "code",
   "execution_count": 35,
   "id": "b168729a",
   "metadata": {
    "scrolled": false
   },
   "outputs": [
    {
     "name": "stdout",
     "output_type": "stream",
     "text": [
      "+--------------------+\n",
      "|               title|\n",
      "+--------------------+\n",
      "|      ALICE FANTASIA|\n",
      "|         APOLLO TEEN|\n",
      "|      ARGONAUTS TOWN|\n",
      "|       ARK RIDGEMONT|\n",
      "|ARSENIC INDEPENDENCE|\n",
      "|   BOONDOCK BALLROOM|\n",
      "|       BUTCH PANTHER|\n",
      "|       CATCH AMISTAD|\n",
      "| CHINATOWN GLADIATOR|\n",
      "|      CHOCOLATE DUCK|\n",
      "|COMMANDMENTS EXPRESS|\n",
      "|    CROSSING DIVORCE|\n",
      "|     CROWDS TELEMARK|\n",
      "|    CRYSTAL BREAKING|\n",
      "|          DAZED PUNK|\n",
      "|DELIVERANCE MULHO...|\n",
      "|   FIREHOUSE VIETNAM|\n",
      "|       FLOATS GARDEN|\n",
      "|FRANKENSTEIN STRA...|\n",
      "|  GLADIATOR WESTWARD|\n",
      "|           GUMP DATE|\n",
      "|       HATE HANDICAP|\n",
      "|         HOCUS FRIDA|\n",
      "|    KENTUCKIAN GIANT|\n",
      "|    KILL BROTHERHOOD|\n",
      "|         MUPPET MILE|\n",
      "|      ORDER BETRAYED|\n",
      "|       PEARL DESTINY|\n",
      "|     PERDITION FARGO|\n",
      "|       PSYCHO SHRUNK|\n",
      "|   RAIDERS ANTITRUST|\n",
      "|       RAINBOW SHOCK|\n",
      "|       ROOF CHAMPION|\n",
      "|       SISTER FREDDY|\n",
      "|         SKY MIRACLE|\n",
      "|    SUICIDES SILENCE|\n",
      "|        TADPOLE PARK|\n",
      "|    TREASURE COMMAND|\n",
      "|   VILLAIN DESPERATE|\n",
      "|        VOLUME HOUSE|\n",
      "|           WAKE JAWS|\n",
      "|        WALLS ARTIST|\n",
      "+--------------------+\n",
      "\n"
     ]
    }
   ],
   "source": [
    "#4\n",
    "film.join(inventory, on=\"film_id\", how=\"left\").filter(\"inventory_id is null\").select(\"title\").orderBy(\"title\").show(42)"
   ]
  },
  {
   "cell_type": "code",
   "execution_count": 63,
   "id": "341e0e98",
   "metadata": {},
   "outputs": [],
   "source": [
    "#5\n",
    "tbl = category.join(film_category, on=\"category_id\")\\\n",
    "    .join(film, on=\"film_id\")\\\n",
    "    .join(film_actor, on=\"film_id\")\\\n",
    "    .join(actor, on=\"actor_id\")\\\n",
    "    .where(f.col(\"name\") == \"Children\")\\\n",
    "    .withColumn(\"full_name\", f.concat_ws(' ', \"first_name\", \"last_name\"))\\\n",
    "    .groupBy(\"full_name\").count()"
   ]
  },
  {
   "cell_type": "code",
   "execution_count": 64,
   "id": "2cf07d2d",
   "metadata": {},
   "outputs": [],
   "source": [
    "filter_topcount = tbl.select(f.col(\"count\")).\\\n",
    "    orderBy(-f.col(\"count\").cast(t.FloatType()))\\\n",
    "    .distinct()\\\n",
    "    .limit(3)\\\n",
    "    .rdd.map(lambda row : row[0]).collect()"
   ]
  },
  {
   "cell_type": "code",
   "execution_count": 65,
   "id": "25a45644",
   "metadata": {},
   "outputs": [
    {
     "name": "stdout",
     "output_type": "stream",
     "text": [
      "+-------------+-----+\n",
      "|    full_name|count|\n",
      "+-------------+-----+\n",
      "|   MARY TANDY|    5|\n",
      "|   RALPH CRUZ|    5|\n",
      "|  WHOOPI HURT|    5|\n",
      "|KEVIN GARLAND|    5|\n",
      "| HELEN VOIGHT|    7|\n",
      "|  SUSAN DAVIS|    6|\n",
      "+-------------+-----+\n",
      "\n"
     ]
    }
   ],
   "source": [
    "tbl.filter(f.col(\"count\").isin(filter_topcount)).show()"
   ]
  },
  {
   "cell_type": "code",
   "execution_count": 71,
   "id": "da97e6bd",
   "metadata": {},
   "outputs": [],
   "source": [
    "#6 \n",
    "tbl = customer.join(address, on=\"address_id\")\\\n",
    "    .join(city, on=\"city_id\")\\\n",
    "    .groupBy(\"city\")\\\n",
    "    .agg(\n",
    "    f.sum(f.col(\"active\").cast(t.FloatType())).alias(\"inactive\"),\n",
    "    f.count(f.col(\"active\").cast(t.FloatType())).alias(\"active\")\n",
    ")"
   ]
  },
  {
   "cell_type": "code",
   "execution_count": 80,
   "id": "524f19a4",
   "metadata": {},
   "outputs": [
    {
     "name": "stdout",
     "output_type": "stream",
     "text": [
      "+------------------+--------+------+---------+\n",
      "|              city|inactive|active|inactived|\n",
      "+------------------+--------+------+---------+\n",
      "|         Pingxiang|     0.0|     1|      1.0|\n",
      "|       Szkesfehrvr|     0.0|     1|      1.0|\n",
      "|  Charlotte Amalie|     0.0|     1|      1.0|\n",
      "|         Najafabad|     0.0|     1|      1.0|\n",
      "|           Wroclaw|     0.0|     1|      1.0|\n",
      "|            Ktahya|     0.0|     1|      1.0|\n",
      "|            Amroha|     0.0|     1|      1.0|\n",
      "|   Southend-on-Sea|     0.0|     1|      1.0|\n",
      "|           Bat Yam|     0.0|     1|      1.0|\n",
      "|            Kamyin|     0.0|     1|      1.0|\n",
      "|          Xiangfan|     0.0|     1|      1.0|\n",
      "|            Daxian|     0.0|     1|      1.0|\n",
      "|          Uluberia|     0.0|     1|      1.0|\n",
      "|     Coatzacoalcos|     0.0|     1|      1.0|\n",
      "|        Kumbakonam|     0.0|     1|      1.0|\n",
      "|          Fengshan|     1.0|     1|      0.0|\n",
      "|A Corua (La Corua)|     1.0|     1|      0.0|\n",
      "|           El Alto|     1.0|     1|      0.0|\n",
      "|          Myingyan|     1.0|     1|      0.0|\n",
      "|              Linz|     1.0|     1|      0.0|\n",
      "+------------------+--------+------+---------+\n",
      "only showing top 20 rows\n",
      "\n"
     ]
    }
   ],
   "source": [
    "tbl.withColumn(\"inactived\", f.col(\"active\")-f.col(\"inactive\")).orderBy(-f.col(\"inactived\")).show(20)"
   ]
  },
  {
   "cell_type": "code",
   "execution_count": 104,
   "id": "9283818b",
   "metadata": {},
   "outputs": [],
   "source": [
    "#7\n",
    "tbl = city.join(address, on=\"city_id\")\\\n",
    "    .join(customer, on=\"address_id\")\\\n",
    "    .join(rental, on=\"customer_id\")\\\n",
    "    .join(inventory, on=\"inventory_id\")\\\n",
    "    .join(film, on=\"film_id\")\\\n",
    "    .join(film_category, on=\"film_id\")\\\n",
    "    .join(category, on=\"category_id\")\\\n",
    "    .filter(\"return_date is not null\")\\\n",
    "    .withColumnRenamed(\"city\", \"gorodok\")\\\n",
    "    .select(\"name\", \"return_date\", \"rental_date\", \"gorodok\")"
   ]
  },
  {
   "cell_type": "code",
   "execution_count": 114,
   "id": "5a91b4af",
   "metadata": {
    "scrolled": true
   },
   "outputs": [],
   "source": [
    "result_1 = tbl.withColumn(\"timedelta\", f.col(\"return_date\") - f.col(\"rental_date\"))\\\n",
    "    .filter(f.col(\"gorodok\").like(\"A%\") | f.col(\"gorodok\").like(\"a%\"))\\\n",
    "    .groupBy(\"name\").agg(f.sum(\"timedelta\").alias(\"period\"))\\\n",
    "    .orderBy(-f.col(\"period\")).limit(1)\n",
    "    "
   ]
  },
  {
   "cell_type": "code",
   "execution_count": 115,
   "id": "06a86094",
   "metadata": {},
   "outputs": [],
   "source": [
    "result_2 = tbl.withColumn(\"timedelta\", f.col(\"return_date\") - f.col(\"rental_date\"))\\\n",
    "    .filter(f.col(\"gorodok\").like(\"%-%\"))\\\n",
    "    .groupBy(\"name\").agg(f.sum(\"timedelta\").alias(\"period\"))\\\n",
    "    .orderBy(-f.col(\"period\")).limit(1)"
   ]
  },
  {
   "cell_type": "code",
   "execution_count": 116,
   "id": "079e7543",
   "metadata": {},
   "outputs": [
    {
     "name": "stderr",
     "output_type": "stream",
     "text": [
      "                                                                                \r"
     ]
    },
    {
     "name": "stdout",
     "output_type": "stream",
     "text": [
      "+-------+--------------------+\n",
      "|   name|              period|\n",
      "+-------+--------------------+\n",
      "| Sports|INTERVAL '515 00:...|\n",
      "|Foreign|INTERVAL '269 16:...|\n",
      "+-------+--------------------+\n",
      "\n"
     ]
    }
   ],
   "source": [
    "result_1.union(result_2).show()"
   ]
  },
  {
   "cell_type": "code",
   "execution_count": 120,
   "id": "512f2bd6",
   "metadata": {},
   "outputs": [
    {
     "ename": "AnalysisException",
     "evalue": "Table or view not found: actor; line 1 pos 21;\n'Project ['actor_id]\n+- 'UnresolvedRelation [actor], [], false\n",
     "output_type": "error",
     "traceback": [
      "\u001b[0;31m---------------------------------------------------------------------------\u001b[0m",
      "\u001b[0;31mAnalysisException\u001b[0m                         Traceback (most recent call last)",
      "\u001b[0;32m/var/folders/5m/w2kmx6856390b72lw5qsq8z00000gn/T/ipykernel_1001/2904586799.py\u001b[0m in \u001b[0;36m<module>\u001b[0;34m\u001b[0m\n\u001b[1;32m      1\u001b[0m \u001b[0;31m#ну это было прям интересно! от души\u001b[0m\u001b[0;34m\u001b[0m\u001b[0;34m\u001b[0m\u001b[0m\n\u001b[0;32m----> 2\u001b[0;31m \u001b[0mspark\u001b[0m\u001b[0;34m.\u001b[0m\u001b[0msql\u001b[0m\u001b[0;34m(\u001b[0m\u001b[0;34m\"select actor_id from actor;\"\u001b[0m\u001b[0;34m)\u001b[0m\u001b[0;34m\u001b[0m\u001b[0;34m\u001b[0m\u001b[0m\n\u001b[0m",
      "\u001b[0;32m~/opt/anaconda3/lib/python3.9/site-packages/pyspark/sql/session.py\u001b[0m in \u001b[0;36msql\u001b[0;34m(self, sqlQuery, **kwargs)\u001b[0m\n\u001b[1;32m   1032\u001b[0m             \u001b[0msqlQuery\u001b[0m \u001b[0;34m=\u001b[0m \u001b[0mformatter\u001b[0m\u001b[0;34m.\u001b[0m\u001b[0mformat\u001b[0m\u001b[0;34m(\u001b[0m\u001b[0msqlQuery\u001b[0m\u001b[0;34m,\u001b[0m \u001b[0;34m**\u001b[0m\u001b[0mkwargs\u001b[0m\u001b[0;34m)\u001b[0m\u001b[0;34m\u001b[0m\u001b[0;34m\u001b[0m\u001b[0m\n\u001b[1;32m   1033\u001b[0m         \u001b[0;32mtry\u001b[0m\u001b[0;34m:\u001b[0m\u001b[0;34m\u001b[0m\u001b[0;34m\u001b[0m\u001b[0m\n\u001b[0;32m-> 1034\u001b[0;31m             \u001b[0;32mreturn\u001b[0m \u001b[0mDataFrame\u001b[0m\u001b[0;34m(\u001b[0m\u001b[0mself\u001b[0m\u001b[0;34m.\u001b[0m\u001b[0m_jsparkSession\u001b[0m\u001b[0;34m.\u001b[0m\u001b[0msql\u001b[0m\u001b[0;34m(\u001b[0m\u001b[0msqlQuery\u001b[0m\u001b[0;34m)\u001b[0m\u001b[0;34m,\u001b[0m \u001b[0mself\u001b[0m\u001b[0;34m)\u001b[0m\u001b[0;34m\u001b[0m\u001b[0;34m\u001b[0m\u001b[0m\n\u001b[0m\u001b[1;32m   1035\u001b[0m         \u001b[0;32mfinally\u001b[0m\u001b[0;34m:\u001b[0m\u001b[0;34m\u001b[0m\u001b[0;34m\u001b[0m\u001b[0m\n\u001b[1;32m   1036\u001b[0m             \u001b[0;32mif\u001b[0m \u001b[0mlen\u001b[0m\u001b[0;34m(\u001b[0m\u001b[0mkwargs\u001b[0m\u001b[0;34m)\u001b[0m \u001b[0;34m>\u001b[0m \u001b[0;36m0\u001b[0m\u001b[0;34m:\u001b[0m\u001b[0;34m\u001b[0m\u001b[0;34m\u001b[0m\u001b[0m\n",
      "\u001b[0;32m~/opt/anaconda3/lib/python3.9/site-packages/py4j/java_gateway.py\u001b[0m in \u001b[0;36m__call__\u001b[0;34m(self, *args)\u001b[0m\n\u001b[1;32m   1319\u001b[0m \u001b[0;34m\u001b[0m\u001b[0m\n\u001b[1;32m   1320\u001b[0m         \u001b[0manswer\u001b[0m \u001b[0;34m=\u001b[0m \u001b[0mself\u001b[0m\u001b[0;34m.\u001b[0m\u001b[0mgateway_client\u001b[0m\u001b[0;34m.\u001b[0m\u001b[0msend_command\u001b[0m\u001b[0;34m(\u001b[0m\u001b[0mcommand\u001b[0m\u001b[0;34m)\u001b[0m\u001b[0;34m\u001b[0m\u001b[0;34m\u001b[0m\u001b[0m\n\u001b[0;32m-> 1321\u001b[0;31m         return_value = get_return_value(\n\u001b[0m\u001b[1;32m   1322\u001b[0m             answer, self.gateway_client, self.target_id, self.name)\n\u001b[1;32m   1323\u001b[0m \u001b[0;34m\u001b[0m\u001b[0m\n",
      "\u001b[0;32m~/opt/anaconda3/lib/python3.9/site-packages/pyspark/sql/utils.py\u001b[0m in \u001b[0;36mdeco\u001b[0;34m(*a, **kw)\u001b[0m\n\u001b[1;32m    194\u001b[0m                 \u001b[0;31m# Hide where the exception came from that shows a non-Pythonic\u001b[0m\u001b[0;34m\u001b[0m\u001b[0;34m\u001b[0m\u001b[0m\n\u001b[1;32m    195\u001b[0m                 \u001b[0;31m# JVM exception message.\u001b[0m\u001b[0;34m\u001b[0m\u001b[0;34m\u001b[0m\u001b[0m\n\u001b[0;32m--> 196\u001b[0;31m                 \u001b[0;32mraise\u001b[0m \u001b[0mconverted\u001b[0m \u001b[0;32mfrom\u001b[0m \u001b[0;32mNone\u001b[0m\u001b[0;34m\u001b[0m\u001b[0;34m\u001b[0m\u001b[0m\n\u001b[0m\u001b[1;32m    197\u001b[0m             \u001b[0;32melse\u001b[0m\u001b[0;34m:\u001b[0m\u001b[0;34m\u001b[0m\u001b[0;34m\u001b[0m\u001b[0m\n\u001b[1;32m    198\u001b[0m                 \u001b[0;32mraise\u001b[0m\u001b[0;34m\u001b[0m\u001b[0;34m\u001b[0m\u001b[0m\n",
      "\u001b[0;31mAnalysisException\u001b[0m: Table or view not found: actor; line 1 pos 21;\n'Project ['actor_id]\n+- 'UnresolvedRelation [actor], [], false\n"
     ]
    }
   ],
   "source": [
    "#ну это было прям интересно! от души\n"
   ]
  },
  {
   "cell_type": "code",
   "execution_count": null,
   "id": "52b518ee",
   "metadata": {},
   "outputs": [],
   "source": []
  }
 ],
 "metadata": {
  "kernelspec": {
   "display_name": "Python 3 (ipykernel)",
   "language": "python",
   "name": "python3"
  },
  "language_info": {
   "codemirror_mode": {
    "name": "ipython",
    "version": 3
   },
   "file_extension": ".py",
   "mimetype": "text/x-python",
   "name": "python",
   "nbconvert_exporter": "python",
   "pygments_lexer": "ipython3",
   "version": "3.9.7"
  }
 },
 "nbformat": 4,
 "nbformat_minor": 5
}
